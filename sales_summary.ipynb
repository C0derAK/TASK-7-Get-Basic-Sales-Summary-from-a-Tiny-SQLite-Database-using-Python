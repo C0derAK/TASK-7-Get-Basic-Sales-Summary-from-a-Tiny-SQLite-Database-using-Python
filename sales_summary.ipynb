{
 "cells": [
  {
   "cell_type": "markdown",
   "id": "555426c8",
   "metadata": {},
   "source": [
    "# Task 7: Basic Sales Summary using SQLite + Python\n",
    "This notebook demonstrates how to connect Python to a SQLite database, query sales data, and visualize the results."
   ]
  },
  {
   "cell_type": "code",
   "execution_count": null,
   "id": "b2efd7ba",
   "metadata": {},
   "outputs": [],
   "source": [
    "# Step 1: Import libraries\n",
    "import sqlite3\n",
    "import pandas as pd\n",
    "import matplotlib.pyplot as plt"
   ]
  },
  {
   "cell_type": "code",
   "execution_count": null,
   "id": "2d7e38d6",
   "metadata": {},
   "outputs": [],
   "source": [
    "# Step 2: Connect to SQLite database (creates file if it doesn't exist)\n",
    "conn = sqlite3.connect(\"sales_data.db\")\n",
    "cursor = conn.cursor()"
   ]
  },
  {
   "cell_type": "code",
   "execution_count": null,
   "id": "479f4738",
   "metadata": {},
   "outputs": [],
   "source": [
    "# Step 3: Create sales table if not exists\n",
    "cursor.execute('''\n",
    "CREATE TABLE IF NOT EXISTS sales (\n",
    "    id INTEGER PRIMARY KEY AUTOINCREMENT,\n",
    "    product TEXT,\n",
    "    quantity INTEGER,\n",
    "    price REAL\n",
    ")\n",
    "''')"
   ]
  },
  {
   "cell_type": "code",
   "execution_count": null,
   "id": "7d985c3d",
   "metadata": {},
   "outputs": [],
   "source": [
    "# Step 4: Insert sample sales data (only if table is empty)\n",
    "cursor.execute(\"SELECT COUNT(*) FROM sales\")\n",
    "if cursor.fetchone()[0] == 0:\n",
    "    sample_data = [\n",
    "        (\"Apples\", 10, 2.5),\n",
    "        (\"Apples\", 5, 2.5),\n",
    "        (\"Bananas\", 20, 1.0),\n",
    "        (\"Bananas\", 15, 1.0),\n",
    "        (\"Oranges\", 8, 3.0),\n",
    "        (\"Oranges\", 12, 3.0),\n",
    "    ]\n",
    "    cursor.executemany(\"INSERT INTO sales (product, quantity, price) VALUES (?, ?, ?)\", sample_data)\n",
    "    conn.commit()"
   ]
  },
  {
   "cell_type": "code",
   "execution_count": null,
   "id": "25d2bed1",
   "metadata": {},
   "outputs": [],
   "source": [
    "# Step 5: Run SQL query to calculate summary\n",
    "query = \"\"\"\n",
    "SELECT product, \n",
    "       SUM(quantity) AS total_qty, \n",
    "       SUM(quantity * price) AS revenue\n",
    "FROM sales\n",
    "GROUP BY product\n",
    "\"\"\"\n",
    "df = pd.read_sql_query(query, conn)"
   ]
  },
  {
   "cell_type": "code",
   "execution_count": null,
   "id": "7872041a",
   "metadata": {},
   "outputs": [],
   "source": [
    "# Step 6: Print the results\n",
    "print(\"Sales Summary:\")\n",
    "print(df)"
   ]
  },
  {
   "cell_type": "code",
   "execution_count": null,
   "id": "bca1ef65",
   "metadata": {},
   "outputs": [],
   "source": [
    "# Step 7: Plot a simple bar chart of revenue by product\n",
    "df.plot(kind='bar', x='product', y='revenue', legend=False)\n",
    "plt.title(\"Revenue by Product\")\n",
    "plt.ylabel(\"Revenue ($)\")\n",
    "plt.xlabel(\"Product\")\n",
    "plt.tight_layout()\n",
    "plt.savefig(\"sales_chart.png\")  # save chart\n",
    "plt.show()"
   ]
  },
  {
   "cell_type": "code",
   "execution_count": null,
   "id": "7f0e4eb0",
   "metadata": {},
   "outputs": [],
   "source": [
    "# Step 8: Close database connection\n",
    "conn.close()"
   ]
  }
 ],
 "metadata": {},
 "nbformat": 4,
 "nbformat_minor": 5
}
